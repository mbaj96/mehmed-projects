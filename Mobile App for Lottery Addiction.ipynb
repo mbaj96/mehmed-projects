{
 "cells": [
  {
   "cell_type": "markdown",
   "metadata": {},
   "source": [
    "# Introduction\n",
    "\n",
    "A medical institute that aims to prevent and treat gambling addictions wants to build a dedicated mobile app to help lottery addicts better estimate their chances of winning.  Our job is to create the logical core of the app and calculate the probabilities.\n",
    "\n",
    "For the first version of the app, they want us to focus on the [6/49 lottery](https://en.wikipedia.org/wiki/Lotto_6/49) and build functions that enable users to answer questions like:\n",
    "\n",
    "* What is the probability of winnning the big prize with a single ticket?\n",
    "\n",
    "* What is the probability of winning the big prize if we play 40 different tickets (or any other number)?\n",
    "\n",
    "* What is the probability of having at least five winning numbers on a single ticket?\n",
    "\n",
    "We'll be considering historical data coming from the national 6/49 lottery game in Canada.  This dataset has data for 3665 drawings, dating from 1982 to 2018."
   ]
  },
  {
   "cell_type": "markdown",
   "metadata": {},
   "source": [
    "# Creating the Factorial and Combination Functions"
   ]
  },
  {
   "cell_type": "markdown",
   "metadata": {},
   "source": [
    "The first step in this project is to define two functions that we'll be using repeatedly: One to calculate factorials, and the other to calculate combinations.  These will be pivotal in calculating probabilities."
   ]
  },
  {
   "cell_type": "code",
   "execution_count": 2,
   "metadata": {
    "collapsed": false
   },
   "outputs": [],
   "source": [
    "def factorial(n):\n",
    "    current_factorial = 1\n",
    "    for i in range(n, 0, -1):\n",
    "        if n > 0:\n",
    "            current_factorial *= i #multiplies by n in steps of -1\n",
    "            \n",
    "    return current_factorial\n",
    " \n",
    "def combinations(n, k):\n",
    "    numerator = factorial(n)\n",
    "    denominator = factorial(k) * factorial(n-k)\n",
    "    return numerator / denominator\n"
   ]
  },
  {
   "cell_type": "markdown",
   "metadata": {},
   "source": [
    "# Calculating the probability of winning a big prize"
   ]
  },
  {
   "cell_type": "markdown",
   "metadata": {},
   "source": [
    "In the 6/49 lottery, six numbers are drawn from a  set of 49 numbers that range from 1 to 49.  A player wins the big prize if the six numbers on their tickets match all of the six numbers drawn.  This means if 1 number differs, the player doesn't win.\n",
    "\n",
    "We'll begin by creating a function that calculates the probability of winning the big prize for any given ticket.\n",
    "\n",
    "We have been given some details about how this function should be created by the engineering team of the medical institute:\n",
    "\n",
    "* Inside the app, the user inputs six different numbers from 1 to 49\n",
    "\n",
    "* The six numbers will come as a Python list, which will serve as the single input to the function\n",
    "\n",
    "* The engineering team wants the function to print the probability value in a friendly way - so that people without any probability knowledge are able to understand"
   ]
  },
  {
   "cell_type": "code",
   "execution_count": 17,
   "metadata": {
    "collapsed": false
   },
   "outputs": [
    {
     "data": {
      "text/plain": [
       "'Your chances of winning the big prize with the numbers [6, 5, 9, 12, 1, 48] are: 0.0000072%.  In other words, you have a 1 in 13983816 chance to win.'"
      ]
     },
     "execution_count": 17,
     "metadata": {},
     "output_type": "execute_result"
    }
   ],
   "source": [
    "def one_ticket_probability(nums):\n",
    "    num_outcomes = int(combinations(49, len(nums)))\n",
    "    probability = 1/num_outcomes\n",
    "    perc_probability = probability * 100\n",
    "    \n",
    "    return 'Your chances of winning the big prize with the numbers {} are: {:.7f}%.  In other words, you have a 1 in {} chance to win.'.format(nums, perc_probability, num_outcomes)\n",
    "\n",
    "one_ticket_probability([1, 8, 16, 30, 44, 33])\n",
    "\n",
    "    "
   ]
  },
  {
   "cell_type": "code",
   "execution_count": 18,
   "metadata": {
    "collapsed": false
   },
   "outputs": [
    {
     "data": {
      "text/plain": [
       "'Your chances of winning the big prize with the numbers [6, 5, 9, 12, 1, 48] are: 0.0000072%.  In other words, you have a 1 in 13983816 chance to win.'"
      ]
     },
     "execution_count": 18,
     "metadata": {},
     "output_type": "execute_result"
    }
   ],
   "source": [
    "one_ticket_probability([6, 5, 9, 12, 1, 48])"
   ]
  },
  {
   "cell_type": "markdown",
   "metadata": {},
   "source": [
    "# Comparing with historical data"
   ]
  },
  {
   "cell_type": "markdown",
   "metadata": {},
   "source": [
    "For the next version of the app, users should also be able to compare their ticket against the historical lottery data in Canada to determine whether they ever would have won by now.  The below dataset will help us accomplish this."
   ]
  },
  {
   "cell_type": "code",
   "execution_count": 20,
   "metadata": {
    "collapsed": false
   },
   "outputs": [
    {
     "data": {
      "text/plain": [
       "(3665, 11)"
      ]
     },
     "execution_count": 20,
     "metadata": {},
     "output_type": "execute_result"
    }
   ],
   "source": [
    "import pandas as pd\n",
    "lottery = pd.read_csv('649.csv')\n",
    "\n",
    "lottery.shape"
   ]
  },
  {
   "cell_type": "code",
   "execution_count": 21,
   "metadata": {
    "collapsed": false
   },
   "outputs": [
    {
     "data": {
      "text/html": [
       "<div>\n",
       "<style scoped>\n",
       "    .dataframe tbody tr th:only-of-type {\n",
       "        vertical-align: middle;\n",
       "    }\n",
       "\n",
       "    .dataframe tbody tr th {\n",
       "        vertical-align: top;\n",
       "    }\n",
       "\n",
       "    .dataframe thead th {\n",
       "        text-align: right;\n",
       "    }\n",
       "</style>\n",
       "<table border=\"1\" class=\"dataframe\">\n",
       "  <thead>\n",
       "    <tr style=\"text-align: right;\">\n",
       "      <th></th>\n",
       "      <th>PRODUCT</th>\n",
       "      <th>DRAW NUMBER</th>\n",
       "      <th>SEQUENCE NUMBER</th>\n",
       "      <th>DRAW DATE</th>\n",
       "      <th>NUMBER DRAWN 1</th>\n",
       "      <th>NUMBER DRAWN 2</th>\n",
       "      <th>NUMBER DRAWN 3</th>\n",
       "      <th>NUMBER DRAWN 4</th>\n",
       "      <th>NUMBER DRAWN 5</th>\n",
       "      <th>NUMBER DRAWN 6</th>\n",
       "      <th>BONUS NUMBER</th>\n",
       "    </tr>\n",
       "  </thead>\n",
       "  <tbody>\n",
       "    <tr>\n",
       "      <th>0</th>\n",
       "      <td>649</td>\n",
       "      <td>1</td>\n",
       "      <td>0</td>\n",
       "      <td>6/12/1982</td>\n",
       "      <td>3</td>\n",
       "      <td>11</td>\n",
       "      <td>12</td>\n",
       "      <td>14</td>\n",
       "      <td>41</td>\n",
       "      <td>43</td>\n",
       "      <td>13</td>\n",
       "    </tr>\n",
       "    <tr>\n",
       "      <th>1</th>\n",
       "      <td>649</td>\n",
       "      <td>2</td>\n",
       "      <td>0</td>\n",
       "      <td>6/19/1982</td>\n",
       "      <td>8</td>\n",
       "      <td>33</td>\n",
       "      <td>36</td>\n",
       "      <td>37</td>\n",
       "      <td>39</td>\n",
       "      <td>41</td>\n",
       "      <td>9</td>\n",
       "    </tr>\n",
       "    <tr>\n",
       "      <th>2</th>\n",
       "      <td>649</td>\n",
       "      <td>3</td>\n",
       "      <td>0</td>\n",
       "      <td>6/26/1982</td>\n",
       "      <td>1</td>\n",
       "      <td>6</td>\n",
       "      <td>23</td>\n",
       "      <td>24</td>\n",
       "      <td>27</td>\n",
       "      <td>39</td>\n",
       "      <td>34</td>\n",
       "    </tr>\n",
       "  </tbody>\n",
       "</table>\n",
       "</div>"
      ],
      "text/plain": [
       "   PRODUCT  DRAW NUMBER  SEQUENCE NUMBER  DRAW DATE  NUMBER DRAWN 1  \\\n",
       "0      649            1                0  6/12/1982               3   \n",
       "1      649            2                0  6/19/1982               8   \n",
       "2      649            3                0  6/26/1982               1   \n",
       "\n",
       "   NUMBER DRAWN 2  NUMBER DRAWN 3  NUMBER DRAWN 4  NUMBER DRAWN 5  \\\n",
       "0              11              12              14              41   \n",
       "1              33              36              37              39   \n",
       "2               6              23              24              27   \n",
       "\n",
       "   NUMBER DRAWN 6  BONUS NUMBER  \n",
       "0              43            13  \n",
       "1              41             9  \n",
       "2              39            34  "
      ]
     },
     "execution_count": 21,
     "metadata": {},
     "output_type": "execute_result"
    }
   ],
   "source": [
    "lottery.head(3)"
   ]
  },
  {
   "cell_type": "code",
   "execution_count": 22,
   "metadata": {
    "collapsed": false
   },
   "outputs": [
    {
     "data": {
      "text/html": [
       "<div>\n",
       "<style scoped>\n",
       "    .dataframe tbody tr th:only-of-type {\n",
       "        vertical-align: middle;\n",
       "    }\n",
       "\n",
       "    .dataframe tbody tr th {\n",
       "        vertical-align: top;\n",
       "    }\n",
       "\n",
       "    .dataframe thead th {\n",
       "        text-align: right;\n",
       "    }\n",
       "</style>\n",
       "<table border=\"1\" class=\"dataframe\">\n",
       "  <thead>\n",
       "    <tr style=\"text-align: right;\">\n",
       "      <th></th>\n",
       "      <th>PRODUCT</th>\n",
       "      <th>DRAW NUMBER</th>\n",
       "      <th>SEQUENCE NUMBER</th>\n",
       "      <th>DRAW DATE</th>\n",
       "      <th>NUMBER DRAWN 1</th>\n",
       "      <th>NUMBER DRAWN 2</th>\n",
       "      <th>NUMBER DRAWN 3</th>\n",
       "      <th>NUMBER DRAWN 4</th>\n",
       "      <th>NUMBER DRAWN 5</th>\n",
       "      <th>NUMBER DRAWN 6</th>\n",
       "      <th>BONUS NUMBER</th>\n",
       "    </tr>\n",
       "  </thead>\n",
       "  <tbody>\n",
       "    <tr>\n",
       "      <th>3662</th>\n",
       "      <td>649</td>\n",
       "      <td>3589</td>\n",
       "      <td>0</td>\n",
       "      <td>6/13/2018</td>\n",
       "      <td>6</td>\n",
       "      <td>22</td>\n",
       "      <td>24</td>\n",
       "      <td>31</td>\n",
       "      <td>32</td>\n",
       "      <td>34</td>\n",
       "      <td>16</td>\n",
       "    </tr>\n",
       "    <tr>\n",
       "      <th>3663</th>\n",
       "      <td>649</td>\n",
       "      <td>3590</td>\n",
       "      <td>0</td>\n",
       "      <td>6/16/2018</td>\n",
       "      <td>2</td>\n",
       "      <td>15</td>\n",
       "      <td>21</td>\n",
       "      <td>31</td>\n",
       "      <td>38</td>\n",
       "      <td>49</td>\n",
       "      <td>8</td>\n",
       "    </tr>\n",
       "    <tr>\n",
       "      <th>3664</th>\n",
       "      <td>649</td>\n",
       "      <td>3591</td>\n",
       "      <td>0</td>\n",
       "      <td>6/20/2018</td>\n",
       "      <td>14</td>\n",
       "      <td>24</td>\n",
       "      <td>31</td>\n",
       "      <td>35</td>\n",
       "      <td>37</td>\n",
       "      <td>48</td>\n",
       "      <td>17</td>\n",
       "    </tr>\n",
       "  </tbody>\n",
       "</table>\n",
       "</div>"
      ],
      "text/plain": [
       "      PRODUCT  DRAW NUMBER  SEQUENCE NUMBER  DRAW DATE  NUMBER DRAWN 1  \\\n",
       "3662      649         3589                0  6/13/2018               6   \n",
       "3663      649         3590                0  6/16/2018               2   \n",
       "3664      649         3591                0  6/20/2018              14   \n",
       "\n",
       "      NUMBER DRAWN 2  NUMBER DRAWN 3  NUMBER DRAWN 4  NUMBER DRAWN 5  \\\n",
       "3662              22              24              31              32   \n",
       "3663              15              21              31              38   \n",
       "3664              24              31              35              37   \n",
       "\n",
       "      NUMBER DRAWN 6  BONUS NUMBER  \n",
       "3662              34            16  \n",
       "3663              49             8  \n",
       "3664              48            17  "
      ]
     },
     "execution_count": 22,
     "metadata": {},
     "output_type": "execute_result"
    }
   ],
   "source": [
    "lottery.tail(3)"
   ]
  },
  {
   "cell_type": "markdown",
   "metadata": {},
   "source": [
    "The engineering team has told us to be aware of the following details:\n",
    "\n",
    "* Inside the app, the user inputs six different numbers from 1 to 49.\n",
    "\n",
    "* The six numbers will come as a Python list and serve as an input to our function\n",
    "\n",
    "* The engineering team wants us to write a function that prints:\n",
    "    * the number of times the combination selected occurred in the Canada dataset\n",
    "    * the probability of winning the big prize in the next drawing with that combination"
   ]
  },
  {
   "cell_type": "code",
   "execution_count": 34,
   "metadata": {
    "collapsed": true
   },
   "outputs": [],
   "source": [
    "def extract_numbers(row): #will take a row of the lottery dataframe and returns a set containing all the six winning numbers\n",
    "    row = row[4:10] # selecting the rows\n",
    "    row = set(row)\n",
    "    return row\n",
    "\n",
    "winning_numbers = lottery.apply(extract_numbers, axis=1)"
   ]
  },
  {
   "cell_type": "code",
   "execution_count": 40,
   "metadata": {
    "collapsed": false
   },
   "outputs": [
    {
     "data": {
      "text/plain": [
       "0    {3, 41, 11, 12, 43, 14}\n",
       "1    {33, 36, 37, 39, 8, 41}\n",
       "2     {1, 6, 39, 23, 24, 27}\n",
       "3     {3, 9, 10, 43, 13, 20}\n",
       "4    {34, 5, 14, 47, 21, 31}\n",
       "dtype: object"
      ]
     },
     "execution_count": 40,
     "metadata": {},
     "output_type": "execute_result"
    }
   ],
   "source": [
    "winning_numbers.head(5)"
   ]
  },
  {
   "cell_type": "code",
   "execution_count": 46,
   "metadata": {
    "collapsed": false,
    "scrolled": true
   },
   "outputs": [],
   "source": [
    "def check_historical_occurence(user_nums, winning_nums):\n",
    "    user_numbers = set(user_nums)\n",
    "    num_matches = (user_numbers == winning_nums).sum()\n",
    "    if num_matches == 0:\n",
    "        print('''The combination {} has never occurred.  This doesn't mean it's more likely to occur now. Your chances of winning the big prize in the next drawing using the combination {} are 0.0000072%, in other words you have a 1 in 13983816 chance to win.'''.format(user_nums, user_nums))\n",
    "    else:\n",
    "        print('The number of times this combination {} has occurred is {}. Your chances of winning the big prize in the next drawing using the combination {} are 0.0000072%, in other words you have a 1 in 13983816 chance to win.'.format(user_nums, num_matches, user_nums))\n",
    "              \n",
    "\n",
    "   \n",
    "    "
   ]
  },
  {
   "cell_type": "code",
   "execution_count": 47,
   "metadata": {
    "collapsed": false
   },
   "outputs": [
    {
     "name": "stdout",
     "output_type": "stream",
     "text": [
      "The combination [3, 8, 16, 23, 45, 44] has never occurred.  This doesn't mean it's more likely to occur now. Your chances of winning the big prize in the next drawing using the combination [3, 8, 16, 23, 45, 44] are 0.0000072%, in other words you have a 1 in 13983816 chance to win.\n"
     ]
    }
   ],
   "source": [
    "test_input = [3, 8, 16, 23, 45, 44]\n",
    "check_historical_occurence(test_input, winning_numbers)"
   ]
  },
  {
   "cell_type": "code",
   "execution_count": 48,
   "metadata": {
    "collapsed": false
   },
   "outputs": [
    {
     "name": "stdout",
     "output_type": "stream",
     "text": [
      "The number of times this combination [34, 5, 14, 47, 21, 31] has occurred is 1. Your chances of winning the big prize in the next drawing using the combination [34, 5, 14, 47, 21, 31] are 0.0000072%, in other words you have a 1 in 13983816 chance to win.\n"
     ]
    }
   ],
   "source": [
    "test_input_2 = [34, 5, 14, 47, 21, 31]\n",
    "check_historical_occurence(test_input_2, winning_numbers)"
   ]
  },
  {
   "cell_type": "markdown",
   "metadata": {},
   "source": [
    "# Multi Ticket Probability"
   ]
  },
  {
   "cell_type": "markdown",
   "metadata": {},
   "source": [
    "Lottery addicts usually play more than one ticket on a single drawing, believing that this would increase their chances of winning significantly.  We're going to now write a function that will allow the users to calculate the chances of winning for any number of tickets.\n",
    "\n",
    "The parameters for this are as follows:\n",
    "\n",
    "* The user will input the number of different tickets they want to play\n",
    "\n",
    "* Our function will see an integer between 1 and 13,983,616 (number of different tickets)\n",
    "\n",
    "* Our function should print information about the probability of winning the big prize depending on the number of tickets played"
   ]
  },
  {
   "cell_type": "code",
   "execution_count": 54,
   "metadata": {
    "collapsed": false
   },
   "outputs": [],
   "source": [
    "def multi_ticket_probability(tickets):\n",
    "    n_combinations = int(combinations(49,6))\n",
    "    n_outcomes = tickets / n_combinations\n",
    "    perc_outcomes = n_outcomes * 100\n",
    "    if tickets == 1:\n",
    "        print('Your chances of winning the big prize with one ticket are {:.6f}%. In other words, you have a 1 in {} chance to win.'.format(perc_outcomes, n_combinations))\n",
    "    else:\n",
    "        combinations_simplified = round(n_combinations/tickets)\n",
    "        print('Your chances to win the big prize with {} different tickets are {:.6f}%. In other words, you have a 1 in {} chance to win.'.format(tickets, perc_outcomes,combinations_simplified))"
   ]
  },
  {
   "cell_type": "code",
   "execution_count": 55,
   "metadata": {
    "collapsed": false
   },
   "outputs": [
    {
     "name": "stdout",
     "output_type": "stream",
     "text": [
      "Your chances of winning the big prize with one ticket are 0.000007%. In other words, you have a 1 in 13983816 chance to win.\n",
      "Your chances to win the big prize with 10 different tickets are 0.000072%. In other words, you have a 1 in 1398382 chance to win.\n",
      "Your chances to win the big prize with 100 different tickets are 0.000715%. In other words, you have a 1 in 139838 chance to win.\n",
      "Your chances to win the big prize with 10000 different tickets are 0.071511%. In other words, you have a 1 in 1398 chance to win.\n",
      "Your chances to win the big prize with 1000000 different tickets are 7.151124%. In other words, you have a 1 in 14 chance to win.\n",
      "Your chances to win the big prize with 6991908 different tickets are 50.000000%. In other words, you have a 1 in 2 chance to win.\n",
      "Your chances to win the big prize with 13983816 different tickets are 100.000000%. In other words, you have a 1 in 1 chance to win.\n"
     ]
    }
   ],
   "source": [
    "test_inputs = [1, 10, 100, 10000, 1000000, 6991908, 13983816]\n",
    "\n",
    "for test_input in test_inputs:\n",
    "    multi_ticket_probability(test_input)"
   ]
  },
  {
   "cell_type": "markdown",
   "metadata": {},
   "source": [
    "# Function for less winning numbers"
   ]
  },
  {
   "cell_type": "markdown",
   "metadata": {},
   "source": [
    "In most 6/49 lotteries there are smaller prizes if a player's ticket match two, three, four, or five of the six numbers drawn.  It may be of interest to the user to be able to calculate the probabilities for five or fewer number matches.\n",
    "\n",
    "The details we should be aware of are:\n",
    "\n",
    "* Inside the app, the user inputs:\n",
    "    * six different numbers from 1 to 49\n",
    "    \n",
    "    * an integer between 2 and 5 that represents the number of winning numbers expected\n",
    "    \n",
    "    \n",
    "* Our function prints information about the probability of having the inputted number of winning numbers"
   ]
  },
  {
   "cell_type": "code",
   "execution_count": 66,
   "metadata": {
    "collapsed": true
   },
   "outputs": [],
   "source": [
    "def probability_less_6(n_winning_numbers):\n",
    "    n_combinations_ticket =  combinations(6, n_winning_numbers)\n",
    "    n_combinations_left = combinations(43, 6 - n_winning_numbers)\n",
    "    successful_outcomes = n_combinations_ticket * n_combinations_left\n",
    "    \n",
    "    n_total_outcomes = combinations(49, 6)\n",
    "    probability = successful_outcomes / n_total_outcomes\n",
    "    \n",
    "    perc_probability = probability * 100\n",
    "    comb_simplified = int(round(n_total_outcomes/successful_outcomes))\n",
    "    \n",
    "    print('Your chances of having {} winning numbers with this ticket are {:.6f}%. In other words, you have a 1 in {} chance to win.'.format(n_winning_numbers,perc_probability,comb_simplified))"
   ]
  },
  {
   "cell_type": "code",
   "execution_count": 67,
   "metadata": {
    "collapsed": false
   },
   "outputs": [
    {
     "name": "stdout",
     "output_type": "stream",
     "text": [
      "Your chances of having 2 winning numbers with this ticket are 13.237803%. In other words, you have a 1 in 8 chance to win.\n",
      "Your chances of having 3 winning numbers with this ticket are 1.765040%. In other words, you have a 1 in 57 chance to win.\n",
      "Your chances of having 4 winning numbers with this ticket are 0.096862%. In other words, you have a 1 in 1032 chance to win.\n",
      "Your chances of having 5 winning numbers with this ticket are 0.001845%. In other words, you have a 1 in 54201 chance to win.\n"
     ]
    }
   ],
   "source": [
    "test_inputs = [2, 3, 4, 5]\n",
    "\n",
    "for test_input in test_inputs:\n",
    "    probability_less_6(test_input)"
   ]
  },
  {
   "cell_type": "markdown",
   "metadata": {},
   "source": [
    "# Conclusion\n",
    "\n",
    "In this project, we designed four key functions that could be used in a lottery addiction app, to help users calculate "
   ]
  }
 ],
 "metadata": {
  "kernelspec": {
   "display_name": "Python 3",
   "language": "python",
   "name": "python3"
  },
  "language_info": {
   "codemirror_mode": {
    "name": "ipython",
    "version": 3
   },
   "file_extension": ".py",
   "mimetype": "text/x-python",
   "name": "python",
   "nbconvert_exporter": "python",
   "pygments_lexer": "ipython3",
   "version": "3.4.3"
  }
 },
 "nbformat": 4,
 "nbformat_minor": 2
}
